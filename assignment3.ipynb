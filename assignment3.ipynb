{
 "cells": [
  {
   "cell_type": "markdown",
   "id": "dba48621-2449-4f97-a8b8-a9d57a26cfbb",
   "metadata": {},
   "source": [
    "1.  [Please put your name here]\n",
    "2.  [Please put your PID here]\n",
    "3.  [Please put your @ucsd.edu email address here]"
   ]
  },
  {
   "cell_type": "markdown",
   "id": "f6a8d939-1a2a-449b-9273-6fb91ff280ff",
   "metadata": {
    "deletable": false,
    "tags": []
   },
   "source": [
    "<div style=\" font-size: 300% !important;\n",
    "    margin-top: 1.5em;\n",
    "    margin-bottom: 10px;\n",
    "    font-weight: bold;\n",
    "    line-height: 1.0;\n",
    "    text-align:center;\">\n",
    "\n",
    "#### CSE142 Assignment 3\n",
    "</div>"
   ]
  },
  {
   "cell_type": "markdown",
   "id": "cda65873-1012-4934-b1aa-251c8ef3a922",
   "metadata": {
    "deletable": false,
    "tags": []
   },
   "source": [
    "<div style=\"page-break-after: always;\"></div>\n",
    "<div class=\"alert alert-block alert-success\">\n",
    "\n",
    "## Question 1\n",
    "    \n",
    "Assume that you have a computer with 4KB pages and a 4-entry full-associative TLB that uses LRU replacement policy. If page must be brought into main memory, increment the largest page number. If the current TLB content is\n",
    " \n",
    "\n",
    "|\t|Valid|\ttag|\tPhysical page number|\n",
    "|---|-----|----|------------------------|\n",
    "|0\t|1\t|0xB\t|12|\n",
    "|1\t|1\t|0x7\t|4|\n",
    "|2\t|1\t|0x3\t|6|\n",
    "|3\t|0\t|0x4\t|9|\n",
    "    \n",
    "and the current page table is\n",
    "\n",
    "|\t|Valid\t|Physical page or in disk|\n",
    "|---|------|-------------------------|\n",
    "| 0\t|1\t|0x5|\n",
    "|1\t|0\t|Disk|\n",
    "|2\t|0\t|Disk|\n",
    "|3\t|1\t|0x6|\n",
    "|4\t|1\t|0x9|\n",
    "|5\t|1\t|0xB|\n",
    "|6\t|0\t|Disk|\n",
    "|7\t|1\t|0x4|\n",
    "|8\t|0\t|Disk|\n",
    "|9\t|0\t|Disk|\n",
    "|10\t|1\t|0x3|\n",
    "|11\t|1\t|0xC|\n",
    "    \n",
    "Please identify how many TLB misses and page faults in the following address stream:\n",
    "0x123D, 0x8B3, 0x365C, 0x871B, 0xBEE6, 0x3140, 0xC049\n",
    "\n",
    "</div>"
   ]
  },
  {
   "cell_type": "markdown",
   "id": "0c7d2609-d5cc-4822-8314-bb5fbe79f847",
   "metadata": {},
   "source": [
    "Please type your answer here."
   ]
  },
  {
   "cell_type": "markdown",
   "id": "1d058f9f-d457-4c7e-8918-e7217a0825fd",
   "metadata": {
    "deletable": false,
    "tags": []
   },
   "source": [
    "<div class=\"alert alert-block alert-success\">\n",
    "\n",
    "## Question 2\n",
    "    \n",
    "Consider the following C code:\n",
    "\n",
    "\n",
    "<pre>\n",
    "int i = 0, sum_remainder_0 = 0, sum_remainder_1 = 0, sum_remainder_2 = 0;\n",
    "do {\n",
    "    if(i % 3 == 0) // Branch X: taken if i % 3 != 0\n",
    "        sum_remainder_0 += A[i];\n",
    "    else\n",
    "    {\n",
    "        if(i%3 == 1) // Branch Y: taken if i % 3 != 1\n",
    "             sum_remainder_1 += A[i];\n",
    "        else\n",
    "             sum_remainder_2 += A[i];\n",
    "    }\n",
    "    i ++;\n",
    "} while (i < 10000); // Branch Z: taken if i < 10000 \n",
    "\n",
    "</pre>\n",
    "Please answer the following questions:\n",
    "</div>"
   ]
  },
  {
   "cell_type": "markdown",
   "id": "9e7fb70f-779a-4ced-9a45-3e38f2edf13f",
   "metadata": {
    "deletable": false,
    "tags": []
   },
   "source": [
    "<div class=\"alert alert-block alert-success\">\n",
    "\n",
    "### 2.A. \n",
    "    \n",
    "If your processor uses a “local 2-bit” predictor with unlimited BTB entries, what’s the branch prediction accuracy? Assume all counters are initialized as 0s.\n",
    "</div>"
   ]
  },
  {
   "cell_type": "markdown",
   "id": "9272ac17-d2a3-40c9-a846-9ef0f9d413f6",
   "metadata": {},
   "source": [
    "Please type your answer here.\n",
    "<br>\n",
    "<br>\n",
    "<br>"
   ]
  },
  {
   "cell_type": "markdown",
   "id": "448971b8-1922-4ca9-b7db-4d104318b1f0",
   "metadata": {
    "deletable": false,
    "tags": []
   },
   "source": [
    "<div class=\"alert alert-block alert-success\">\n",
    "\n",
    "### 2.B. \n",
    "    \n",
    "If your processor uses a “global 2-bit” predictor with 4-bit GHR and unlimited BTB entries, what’s the branch prediction accuracy? Assume all counters are initialized as 0s.\n",
    "</div>"
   ]
  },
  {
   "cell_type": "markdown",
   "id": "028f5165-9d0d-47c1-8d3e-0f5f02fc40ef",
   "metadata": {},
   "source": [
    "Please type your answer here.\n",
    "\n",
    "\n",
    "<br>\n",
    "<br>"
   ]
  }
 ],
 "metadata": {
  "kernelspec": {
   "display_name": "Python 3 (ipykernel)",
   "language": "python",
   "name": "python3"
  },
  "language_info": {
   "codemirror_mode": {
    "name": "ipython",
    "version": 3
   },
   "file_extension": ".py",
   "mimetype": "text/x-python",
   "name": "python",
   "nbconvert_exporter": "python",
   "pygments_lexer": "ipython3",
   "version": "3.8.10"
  },
  "widgets": {
   "application/vnd.jupyter.widget-state+json": {
    "state": {},
    "version_major": 2,
    "version_minor": 0
   }
  }
 },
 "nbformat": 4,
 "nbformat_minor": 5
}
